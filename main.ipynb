{
 "cells": [
  {
   "cell_type": "code",
   "execution_count": 1,
   "metadata": {
    "collapsed": true
   },
   "outputs": [],
   "source": [
    "import pandas as pd\n",
    "from sklearn.model_selection import train_test_split\n",
    "from sklearn.linear_model import LinearRegression"
   ]
  },
  {
   "cell_type": "code",
   "execution_count": 2,
   "outputs": [],
   "source": [
    "data = pd.read_csv('data/train.csv')"
   ],
   "metadata": {
    "collapsed": false
   }
  },
  {
   "cell_type": "code",
   "execution_count": 3,
   "outputs": [
    {
     "data": {
      "text/plain": "<bound method DataFrame.info of      LandContour  GarageYrBlt  FullBath  1stFlrSF  BsmtFinSF1  TotRmsAbvGrd  \\\n0            Lvl       2003.0         2       856         706             8   \n1            Lvl       1976.0         2      1262         978             6   \n2            Lvl       2001.0         2       920         486             6   \n3            Lvl       1998.0         1       961         216             7   \n4            Lvl       2000.0         2      1145         655             9   \n...          ...          ...       ...       ...         ...           ...   \n1455         Lvl       1999.0         2       953           0             7   \n1456         Lvl       1978.0         2      2073         790             7   \n1457         Lvl       1941.0         2      1188         275             9   \n1458         Lvl       1950.0         1      1078          49             5   \n1459         Lvl       1965.0         1      1256         830             6   \n\n     ExterQual  OpenPorchSF Heating Condition2  ...  GarageCars  KitchenQual  \\\n0           Gd           61    GasA       Norm  ...           2           Gd   \n1           TA            0    GasA       Norm  ...           2           TA   \n2           Gd           42    GasA       Norm  ...           2           Gd   \n3           TA           35    GasA       Norm  ...           3           Gd   \n4           Gd           84    GasA       Norm  ...           3           Gd   \n...        ...          ...     ...        ...  ...         ...          ...   \n1455        TA           40    GasA       Norm  ...           2           TA   \n1456        TA            0    GasA       Norm  ...           2           TA   \n1457        Ex           60    GasA       Norm  ...           1           Gd   \n1458        TA            0    GasA       Norm  ...           1           Gd   \n1459        Gd           68    GasA       Norm  ...           1           TA   \n\n     KitchenAbvGr  GrLivArea  2ndFlrSF  CentralAir BsmtQual TotalBsmtSF  \\\n0               1       1710       854           Y       Gd         856   \n1               1       1262         0           Y       Gd        1262   \n2               1       1786       866           Y       Gd         920   \n3               1       1717       756           Y       TA         756   \n4               1       2198      1053           Y       Gd        1145   \n...           ...        ...       ...         ...      ...         ...   \n1455            1       1647       694           Y       Gd         953   \n1456            1       2073         0           Y       Gd        1542   \n1457            1       2340      1152           Y       TA        1152   \n1458            1       1078         0           Y       TA        1078   \n1459            1       1256         0           Y       TA        1256   \n\n      Fireplaces  SalePrice  \n0              0     208500  \n1              1     181500  \n2              1     223500  \n3              1     140000  \n4              1     250000  \n...          ...        ...  \n1455           1     175000  \n1456           2     210000  \n1457           2     266500  \n1458           0     142125  \n1459           0     147500  \n\n[1460 rows x 21 columns]>"
     },
     "execution_count": 3,
     "metadata": {},
     "output_type": "execute_result"
    }
   ],
   "source": [
    "data.info"
   ],
   "metadata": {
    "collapsed": false
   }
  },
  {
   "cell_type": "code",
   "execution_count": 4,
   "outputs": [
    {
     "data": {
      "text/plain": "  LandContour  GarageYrBlt  FullBath  1stFlrSF  BsmtFinSF1  TotRmsAbvGrd  \\\n0         Lvl       2003.0         2       856         706             8   \n1         Lvl       1976.0         2      1262         978             6   \n2         Lvl       2001.0         2       920         486             6   \n3         Lvl       1998.0         1       961         216             7   \n4         Lvl       2000.0         2      1145         655             9   \n\n  ExterQual  OpenPorchSF Heating Condition2  ...  GarageCars  KitchenQual  \\\n0        Gd           61    GasA       Norm  ...           2           Gd   \n1        TA            0    GasA       Norm  ...           2           TA   \n2        Gd           42    GasA       Norm  ...           2           Gd   \n3        TA           35    GasA       Norm  ...           3           Gd   \n4        Gd           84    GasA       Norm  ...           3           Gd   \n\n  KitchenAbvGr  GrLivArea  2ndFlrSF  CentralAir BsmtQual TotalBsmtSF  \\\n0            1       1710       854           Y       Gd         856   \n1            1       1262         0           Y       Gd        1262   \n2            1       1786       866           Y       Gd         920   \n3            1       1717       756           Y       TA         756   \n4            1       2198      1053           Y       Gd        1145   \n\n   Fireplaces  SalePrice  \n0           0     208500  \n1           1     181500  \n2           1     223500  \n3           1     140000  \n4           1     250000  \n\n[5 rows x 21 columns]",
      "text/html": "<div>\n<style scoped>\n    .dataframe tbody tr th:only-of-type {\n        vertical-align: middle;\n    }\n\n    .dataframe tbody tr th {\n        vertical-align: top;\n    }\n\n    .dataframe thead th {\n        text-align: right;\n    }\n</style>\n<table border=\"1\" class=\"dataframe\">\n  <thead>\n    <tr style=\"text-align: right;\">\n      <th></th>\n      <th>LandContour</th>\n      <th>GarageYrBlt</th>\n      <th>FullBath</th>\n      <th>1stFlrSF</th>\n      <th>BsmtFinSF1</th>\n      <th>TotRmsAbvGrd</th>\n      <th>ExterQual</th>\n      <th>OpenPorchSF</th>\n      <th>Heating</th>\n      <th>Condition2</th>\n      <th>...</th>\n      <th>GarageCars</th>\n      <th>KitchenQual</th>\n      <th>KitchenAbvGr</th>\n      <th>GrLivArea</th>\n      <th>2ndFlrSF</th>\n      <th>CentralAir</th>\n      <th>BsmtQual</th>\n      <th>TotalBsmtSF</th>\n      <th>Fireplaces</th>\n      <th>SalePrice</th>\n    </tr>\n  </thead>\n  <tbody>\n    <tr>\n      <th>0</th>\n      <td>Lvl</td>\n      <td>2003.0</td>\n      <td>2</td>\n      <td>856</td>\n      <td>706</td>\n      <td>8</td>\n      <td>Gd</td>\n      <td>61</td>\n      <td>GasA</td>\n      <td>Norm</td>\n      <td>...</td>\n      <td>2</td>\n      <td>Gd</td>\n      <td>1</td>\n      <td>1710</td>\n      <td>854</td>\n      <td>Y</td>\n      <td>Gd</td>\n      <td>856</td>\n      <td>0</td>\n      <td>208500</td>\n    </tr>\n    <tr>\n      <th>1</th>\n      <td>Lvl</td>\n      <td>1976.0</td>\n      <td>2</td>\n      <td>1262</td>\n      <td>978</td>\n      <td>6</td>\n      <td>TA</td>\n      <td>0</td>\n      <td>GasA</td>\n      <td>Norm</td>\n      <td>...</td>\n      <td>2</td>\n      <td>TA</td>\n      <td>1</td>\n      <td>1262</td>\n      <td>0</td>\n      <td>Y</td>\n      <td>Gd</td>\n      <td>1262</td>\n      <td>1</td>\n      <td>181500</td>\n    </tr>\n    <tr>\n      <th>2</th>\n      <td>Lvl</td>\n      <td>2001.0</td>\n      <td>2</td>\n      <td>920</td>\n      <td>486</td>\n      <td>6</td>\n      <td>Gd</td>\n      <td>42</td>\n      <td>GasA</td>\n      <td>Norm</td>\n      <td>...</td>\n      <td>2</td>\n      <td>Gd</td>\n      <td>1</td>\n      <td>1786</td>\n      <td>866</td>\n      <td>Y</td>\n      <td>Gd</td>\n      <td>920</td>\n      <td>1</td>\n      <td>223500</td>\n    </tr>\n    <tr>\n      <th>3</th>\n      <td>Lvl</td>\n      <td>1998.0</td>\n      <td>1</td>\n      <td>961</td>\n      <td>216</td>\n      <td>7</td>\n      <td>TA</td>\n      <td>35</td>\n      <td>GasA</td>\n      <td>Norm</td>\n      <td>...</td>\n      <td>3</td>\n      <td>Gd</td>\n      <td>1</td>\n      <td>1717</td>\n      <td>756</td>\n      <td>Y</td>\n      <td>TA</td>\n      <td>756</td>\n      <td>1</td>\n      <td>140000</td>\n    </tr>\n    <tr>\n      <th>4</th>\n      <td>Lvl</td>\n      <td>2000.0</td>\n      <td>2</td>\n      <td>1145</td>\n      <td>655</td>\n      <td>9</td>\n      <td>Gd</td>\n      <td>84</td>\n      <td>GasA</td>\n      <td>Norm</td>\n      <td>...</td>\n      <td>3</td>\n      <td>Gd</td>\n      <td>1</td>\n      <td>2198</td>\n      <td>1053</td>\n      <td>Y</td>\n      <td>Gd</td>\n      <td>1145</td>\n      <td>1</td>\n      <td>250000</td>\n    </tr>\n  </tbody>\n</table>\n<p>5 rows × 21 columns</p>\n</div>"
     },
     "execution_count": 4,
     "metadata": {},
     "output_type": "execute_result"
    }
   ],
   "source": [
    "data.head()"
   ],
   "metadata": {
    "collapsed": false
   }
  },
  {
   "cell_type": "code",
   "execution_count": 5,
   "outputs": [
    {
     "data": {
      "text/plain": "LandContour      0\nGarageYrBlt     81\nFullBath         0\n1stFlrSF         0\nBsmtFinSF1       0\nTotRmsAbvGrd     0\nExterQual        0\nOpenPorchSF      0\nHeating          0\nCondition2       0\nOverallQual      0\nGarageCars       0\nKitchenQual      0\nKitchenAbvGr     0\nGrLivArea        0\n2ndFlrSF         0\nCentralAir       0\nBsmtQual        37\nTotalBsmtSF      0\nFireplaces       0\nSalePrice        0\ndtype: int64"
     },
     "execution_count": 5,
     "metadata": {},
     "output_type": "execute_result"
    }
   ],
   "source": [
    "data.isnull().sum()"
   ],
   "metadata": {
    "collapsed": false
   }
  },
  {
   "cell_type": "code",
   "execution_count": 6,
   "outputs": [],
   "source": [
    "data['GarageYrBlt'] = data['GarageYrBlt'].fillna(-1)"
   ],
   "metadata": {
    "collapsed": false
   }
  },
  {
   "cell_type": "code",
   "execution_count": 7,
   "outputs": [],
   "source": [
    "data['BsmtQual'] = data['BsmtQual'].fillna('NA')"
   ],
   "metadata": {
    "collapsed": false
   }
  },
  {
   "cell_type": "code",
   "execution_count": 8,
   "outputs": [],
   "source": [
    "from sklearn.preprocessing import LabelEncoder\n",
    "\n",
    "label_encoder = LabelEncoder()\n",
    "data['GarageYrBlt'] = label_encoder.fit_transform(data['GarageYrBlt'])"
   ],
   "metadata": {
    "collapsed": false
   }
  },
  {
   "cell_type": "code",
   "execution_count": 9,
   "outputs": [],
   "source": [
    "from sklearn.preprocessing import OneHotEncoder\n",
    "\n",
    "onehot_encoder = OneHotEncoder(handle_unknown='ignore', sparse_output=False)"
   ],
   "metadata": {
    "collapsed": false
   }
  },
  {
   "cell_type": "code",
   "execution_count": 10,
   "outputs": [],
   "source": [
    "onehot_encoded = onehot_encoder.fit_transform(data[['LandContour', 'Heating', 'Condition2']])\n",
    "new_columns = onehot_encoder.get_feature_names_out(['LandContour', 'Heating', 'Condition2'])\n",
    "data = pd.concat([data, pd.DataFrame(onehot_encoded, columns=new_columns)], axis=1)\n",
    "data = data.drop(['LandContour', 'Heating', 'Condition2'], axis=1)"
   ],
   "metadata": {
    "collapsed": false
   }
  },
  {
   "cell_type": "code",
   "execution_count": 11,
   "outputs": [],
   "source": [
    "kitchen_qual_mapping = {\n",
    "    \"Ex\": 5,\n",
    "    \"Gd\": 4,\n",
    "    \"TA\": 3,\n",
    "    \"Fa\": 2,\n",
    "    \"Po\": 1\n",
    "}"
   ],
   "metadata": {
    "collapsed": false
   }
  },
  {
   "cell_type": "code",
   "execution_count": 12,
   "outputs": [],
   "source": [
    "exter_qual_mapping = {\n",
    "    \"Ex\": 5,\n",
    "    \"Gd\": 4,\n",
    "    \"TA\": 3,\n",
    "    \"Fa\": 2,\n",
    "    \"Po\": 1\n",
    "}"
   ],
   "metadata": {
    "collapsed": false
   }
  },
  {
   "cell_type": "code",
   "execution_count": 13,
   "outputs": [],
   "source": [
    "central_air_mapping = {\n",
    "    \"Y\": 1,\n",
    "    \"N\": 0\n",
    "}"
   ],
   "metadata": {
    "collapsed": false
   }
  },
  {
   "cell_type": "code",
   "execution_count": 14,
   "outputs": [],
   "source": [
    "bsmt_qual_mapping = {\n",
    "    \"Ex\": 6,\n",
    "    \"Gd\": 5,\n",
    "    \"TA\": 4,\n",
    "    \"Fa\": 3,\n",
    "    \"Po\": 2,\n",
    "    \"NA\": 1\n",
    "}"
   ],
   "metadata": {
    "collapsed": false
   }
  },
  {
   "cell_type": "code",
   "execution_count": 15,
   "outputs": [],
   "source": [
    "data['KitchenQual'] = data['KitchenQual'].map(kitchen_qual_mapping)\n",
    "data['ExterQual'] = data['ExterQual'].map(exter_qual_mapping)\n",
    "data['CentralAir'] = data['CentralAir'].map(central_air_mapping)\n",
    "data['BsmtQual'] = data['BsmtQual'].map(bsmt_qual_mapping)"
   ],
   "metadata": {
    "collapsed": false
   }
  },
  {
   "cell_type": "code",
   "execution_count": 16,
   "outputs": [],
   "source": [
    "X = data.drop('SalePrice', axis=1)\n",
    "y = data['SalePrice']\n",
    "\n",
    "X_train, X_test, y_train, y_test = train_test_split(X, y, test_size=0.2, random_state=20)"
   ],
   "metadata": {
    "collapsed": false
   }
  },
  {
   "cell_type": "code",
   "execution_count": 17,
   "outputs": [
    {
     "data": {
      "text/plain": "LinearRegression()",
      "text/html": "<style>#sk-container-id-1 {\n  /* Definition of color scheme common for light and dark mode */\n  --sklearn-color-text: black;\n  --sklearn-color-line: gray;\n  /* Definition of color scheme for unfitted estimators */\n  --sklearn-color-unfitted-level-0: #fff5e6;\n  --sklearn-color-unfitted-level-1: #f6e4d2;\n  --sklearn-color-unfitted-level-2: #ffe0b3;\n  --sklearn-color-unfitted-level-3: chocolate;\n  /* Definition of color scheme for fitted estimators */\n  --sklearn-color-fitted-level-0: #f0f8ff;\n  --sklearn-color-fitted-level-1: #d4ebff;\n  --sklearn-color-fitted-level-2: #b3dbfd;\n  --sklearn-color-fitted-level-3: cornflowerblue;\n\n  /* Specific color for light theme */\n  --sklearn-color-text-on-default-background: var(--sg-text-color, var(--theme-code-foreground, var(--jp-content-font-color1, black)));\n  --sklearn-color-background: var(--sg-background-color, var(--theme-background, var(--jp-layout-color0, white)));\n  --sklearn-color-border-box: var(--sg-text-color, var(--theme-code-foreground, var(--jp-content-font-color1, black)));\n  --sklearn-color-icon: #696969;\n\n  @media (prefers-color-scheme: dark) {\n    /* Redefinition of color scheme for dark theme */\n    --sklearn-color-text-on-default-background: var(--sg-text-color, var(--theme-code-foreground, var(--jp-content-font-color1, white)));\n    --sklearn-color-background: var(--sg-background-color, var(--theme-background, var(--jp-layout-color0, #111)));\n    --sklearn-color-border-box: var(--sg-text-color, var(--theme-code-foreground, var(--jp-content-font-color1, white)));\n    --sklearn-color-icon: #878787;\n  }\n}\n\n#sk-container-id-1 {\n  color: var(--sklearn-color-text);\n}\n\n#sk-container-id-1 pre {\n  padding: 0;\n}\n\n#sk-container-id-1 input.sk-hidden--visually {\n  border: 0;\n  clip: rect(1px 1px 1px 1px);\n  clip: rect(1px, 1px, 1px, 1px);\n  height: 1px;\n  margin: -1px;\n  overflow: hidden;\n  padding: 0;\n  position: absolute;\n  width: 1px;\n}\n\n#sk-container-id-1 div.sk-dashed-wrapped {\n  border: 1px dashed var(--sklearn-color-line);\n  margin: 0 0.4em 0.5em 0.4em;\n  box-sizing: border-box;\n  padding-bottom: 0.4em;\n  background-color: var(--sklearn-color-background);\n}\n\n#sk-container-id-1 div.sk-container {\n  /* jupyter's `normalize.less` sets `[hidden] { display: none; }`\n     but bootstrap.min.css set `[hidden] { display: none !important; }`\n     so we also need the `!important` here to be able to override the\n     default hidden behavior on the sphinx rendered scikit-learn.org.\n     See: https://github.com/scikit-learn/scikit-learn/issues/21755 */\n  display: inline-block !important;\n  position: relative;\n}\n\n#sk-container-id-1 div.sk-text-repr-fallback {\n  display: none;\n}\n\ndiv.sk-parallel-item,\ndiv.sk-serial,\ndiv.sk-item {\n  /* draw centered vertical line to link estimators */\n  background-image: linear-gradient(var(--sklearn-color-text-on-default-background), var(--sklearn-color-text-on-default-background));\n  background-size: 2px 100%;\n  background-repeat: no-repeat;\n  background-position: center center;\n}\n\n/* Parallel-specific style estimator block */\n\n#sk-container-id-1 div.sk-parallel-item::after {\n  content: \"\";\n  width: 100%;\n  border-bottom: 2px solid var(--sklearn-color-text-on-default-background);\n  flex-grow: 1;\n}\n\n#sk-container-id-1 div.sk-parallel {\n  display: flex;\n  align-items: stretch;\n  justify-content: center;\n  background-color: var(--sklearn-color-background);\n  position: relative;\n}\n\n#sk-container-id-1 div.sk-parallel-item {\n  display: flex;\n  flex-direction: column;\n}\n\n#sk-container-id-1 div.sk-parallel-item:first-child::after {\n  align-self: flex-end;\n  width: 50%;\n}\n\n#sk-container-id-1 div.sk-parallel-item:last-child::after {\n  align-self: flex-start;\n  width: 50%;\n}\n\n#sk-container-id-1 div.sk-parallel-item:only-child::after {\n  width: 0;\n}\n\n/* Serial-specific style estimator block */\n\n#sk-container-id-1 div.sk-serial {\n  display: flex;\n  flex-direction: column;\n  align-items: center;\n  background-color: var(--sklearn-color-background);\n  padding-right: 1em;\n  padding-left: 1em;\n}\n\n\n/* Toggleable style: style used for estimator/Pipeline/ColumnTransformer box that is\nclickable and can be expanded/collapsed.\n- Pipeline and ColumnTransformer use this feature and define the default style\n- Estimators will overwrite some part of the style using the `sk-estimator` class\n*/\n\n/* Pipeline and ColumnTransformer style (default) */\n\n#sk-container-id-1 div.sk-toggleable {\n  /* Default theme specific background. It is overwritten whether we have a\n  specific estimator or a Pipeline/ColumnTransformer */\n  background-color: var(--sklearn-color-background);\n}\n\n/* Toggleable label */\n#sk-container-id-1 label.sk-toggleable__label {\n  cursor: pointer;\n  display: block;\n  width: 100%;\n  margin-bottom: 0;\n  padding: 0.5em;\n  box-sizing: border-box;\n  text-align: center;\n}\n\n#sk-container-id-1 label.sk-toggleable__label-arrow:before {\n  /* Arrow on the left of the label */\n  content: \"▸\";\n  float: left;\n  margin-right: 0.25em;\n  color: var(--sklearn-color-icon);\n}\n\n#sk-container-id-1 label.sk-toggleable__label-arrow:hover:before {\n  color: var(--sklearn-color-text);\n}\n\n/* Toggleable content - dropdown */\n\n#sk-container-id-1 div.sk-toggleable__content {\n  max-height: 0;\n  max-width: 0;\n  overflow: hidden;\n  text-align: left;\n  /* unfitted */\n  background-color: var(--sklearn-color-unfitted-level-0);\n}\n\n#sk-container-id-1 div.sk-toggleable__content.fitted {\n  /* fitted */\n  background-color: var(--sklearn-color-fitted-level-0);\n}\n\n#sk-container-id-1 div.sk-toggleable__content pre {\n  margin: 0.2em;\n  border-radius: 0.25em;\n  color: var(--sklearn-color-text);\n  /* unfitted */\n  background-color: var(--sklearn-color-unfitted-level-0);\n}\n\n#sk-container-id-1 div.sk-toggleable__content.fitted pre {\n  /* unfitted */\n  background-color: var(--sklearn-color-fitted-level-0);\n}\n\n#sk-container-id-1 input.sk-toggleable__control:checked~div.sk-toggleable__content {\n  /* Expand drop-down */\n  max-height: 200px;\n  max-width: 100%;\n  overflow: auto;\n}\n\n#sk-container-id-1 input.sk-toggleable__control:checked~label.sk-toggleable__label-arrow:before {\n  content: \"▾\";\n}\n\n/* Pipeline/ColumnTransformer-specific style */\n\n#sk-container-id-1 div.sk-label input.sk-toggleable__control:checked~label.sk-toggleable__label {\n  color: var(--sklearn-color-text);\n  background-color: var(--sklearn-color-unfitted-level-2);\n}\n\n#sk-container-id-1 div.sk-label.fitted input.sk-toggleable__control:checked~label.sk-toggleable__label {\n  background-color: var(--sklearn-color-fitted-level-2);\n}\n\n/* Estimator-specific style */\n\n/* Colorize estimator box */\n#sk-container-id-1 div.sk-estimator input.sk-toggleable__control:checked~label.sk-toggleable__label {\n  /* unfitted */\n  background-color: var(--sklearn-color-unfitted-level-2);\n}\n\n#sk-container-id-1 div.sk-estimator.fitted input.sk-toggleable__control:checked~label.sk-toggleable__label {\n  /* fitted */\n  background-color: var(--sklearn-color-fitted-level-2);\n}\n\n#sk-container-id-1 div.sk-label label.sk-toggleable__label,\n#sk-container-id-1 div.sk-label label {\n  /* The background is the default theme color */\n  color: var(--sklearn-color-text-on-default-background);\n}\n\n/* On hover, darken the color of the background */\n#sk-container-id-1 div.sk-label:hover label.sk-toggleable__label {\n  color: var(--sklearn-color-text);\n  background-color: var(--sklearn-color-unfitted-level-2);\n}\n\n/* Label box, darken color on hover, fitted */\n#sk-container-id-1 div.sk-label.fitted:hover label.sk-toggleable__label.fitted {\n  color: var(--sklearn-color-text);\n  background-color: var(--sklearn-color-fitted-level-2);\n}\n\n/* Estimator label */\n\n#sk-container-id-1 div.sk-label label {\n  font-family: monospace;\n  font-weight: bold;\n  display: inline-block;\n  line-height: 1.2em;\n}\n\n#sk-container-id-1 div.sk-label-container {\n  text-align: center;\n}\n\n/* Estimator-specific */\n#sk-container-id-1 div.sk-estimator {\n  font-family: monospace;\n  border: 1px dotted var(--sklearn-color-border-box);\n  border-radius: 0.25em;\n  box-sizing: border-box;\n  margin-bottom: 0.5em;\n  /* unfitted */\n  background-color: var(--sklearn-color-unfitted-level-0);\n}\n\n#sk-container-id-1 div.sk-estimator.fitted {\n  /* fitted */\n  background-color: var(--sklearn-color-fitted-level-0);\n}\n\n/* on hover */\n#sk-container-id-1 div.sk-estimator:hover {\n  /* unfitted */\n  background-color: var(--sklearn-color-unfitted-level-2);\n}\n\n#sk-container-id-1 div.sk-estimator.fitted:hover {\n  /* fitted */\n  background-color: var(--sklearn-color-fitted-level-2);\n}\n\n/* Specification for estimator info (e.g. \"i\" and \"?\") */\n\n/* Common style for \"i\" and \"?\" */\n\n.sk-estimator-doc-link,\na:link.sk-estimator-doc-link,\na:visited.sk-estimator-doc-link {\n  float: right;\n  font-size: smaller;\n  line-height: 1em;\n  font-family: monospace;\n  background-color: var(--sklearn-color-background);\n  border-radius: 1em;\n  height: 1em;\n  width: 1em;\n  text-decoration: none !important;\n  margin-left: 1ex;\n  /* unfitted */\n  border: var(--sklearn-color-unfitted-level-1) 1pt solid;\n  color: var(--sklearn-color-unfitted-level-1);\n}\n\n.sk-estimator-doc-link.fitted,\na:link.sk-estimator-doc-link.fitted,\na:visited.sk-estimator-doc-link.fitted {\n  /* fitted */\n  border: var(--sklearn-color-fitted-level-1) 1pt solid;\n  color: var(--sklearn-color-fitted-level-1);\n}\n\n/* On hover */\ndiv.sk-estimator:hover .sk-estimator-doc-link:hover,\n.sk-estimator-doc-link:hover,\ndiv.sk-label-container:hover .sk-estimator-doc-link:hover,\n.sk-estimator-doc-link:hover {\n  /* unfitted */\n  background-color: var(--sklearn-color-unfitted-level-3);\n  color: var(--sklearn-color-background);\n  text-decoration: none;\n}\n\ndiv.sk-estimator.fitted:hover .sk-estimator-doc-link.fitted:hover,\n.sk-estimator-doc-link.fitted:hover,\ndiv.sk-label-container:hover .sk-estimator-doc-link.fitted:hover,\n.sk-estimator-doc-link.fitted:hover {\n  /* fitted */\n  background-color: var(--sklearn-color-fitted-level-3);\n  color: var(--sklearn-color-background);\n  text-decoration: none;\n}\n\n/* Span, style for the box shown on hovering the info icon */\n.sk-estimator-doc-link span {\n  display: none;\n  z-index: 9999;\n  position: relative;\n  font-weight: normal;\n  right: .2ex;\n  padding: .5ex;\n  margin: .5ex;\n  width: min-content;\n  min-width: 20ex;\n  max-width: 50ex;\n  color: var(--sklearn-color-text);\n  box-shadow: 2pt 2pt 4pt #999;\n  /* unfitted */\n  background: var(--sklearn-color-unfitted-level-0);\n  border: .5pt solid var(--sklearn-color-unfitted-level-3);\n}\n\n.sk-estimator-doc-link.fitted span {\n  /* fitted */\n  background: var(--sklearn-color-fitted-level-0);\n  border: var(--sklearn-color-fitted-level-3);\n}\n\n.sk-estimator-doc-link:hover span {\n  display: block;\n}\n\n/* \"?\"-specific style due to the `<a>` HTML tag */\n\n#sk-container-id-1 a.estimator_doc_link {\n  float: right;\n  font-size: 1rem;\n  line-height: 1em;\n  font-family: monospace;\n  background-color: var(--sklearn-color-background);\n  border-radius: 1rem;\n  height: 1rem;\n  width: 1rem;\n  text-decoration: none;\n  /* unfitted */\n  color: var(--sklearn-color-unfitted-level-1);\n  border: var(--sklearn-color-unfitted-level-1) 1pt solid;\n}\n\n#sk-container-id-1 a.estimator_doc_link.fitted {\n  /* fitted */\n  border: var(--sklearn-color-fitted-level-1) 1pt solid;\n  color: var(--sklearn-color-fitted-level-1);\n}\n\n/* On hover */\n#sk-container-id-1 a.estimator_doc_link:hover {\n  /* unfitted */\n  background-color: var(--sklearn-color-unfitted-level-3);\n  color: var(--sklearn-color-background);\n  text-decoration: none;\n}\n\n#sk-container-id-1 a.estimator_doc_link.fitted:hover {\n  /* fitted */\n  background-color: var(--sklearn-color-fitted-level-3);\n}\n</style><div id=\"sk-container-id-1\" class=\"sk-top-container\"><div class=\"sk-text-repr-fallback\"><pre>LinearRegression()</pre><b>In a Jupyter environment, please rerun this cell to show the HTML representation or trust the notebook. <br />On GitHub, the HTML representation is unable to render, please try loading this page with nbviewer.org.</b></div><div class=\"sk-container\" hidden><div class=\"sk-item\"><div class=\"sk-estimator fitted sk-toggleable\"><input class=\"sk-toggleable__control sk-hidden--visually\" id=\"sk-estimator-id-1\" type=\"checkbox\" checked><label for=\"sk-estimator-id-1\" class=\"sk-toggleable__label fitted sk-toggleable__label-arrow fitted\">&nbsp;&nbsp;LinearRegression<a class=\"sk-estimator-doc-link fitted\" rel=\"noreferrer\" target=\"_blank\" href=\"https://scikit-learn.org/1.4/modules/generated/sklearn.linear_model.LinearRegression.html\">?<span>Documentation for LinearRegression</span></a><span class=\"sk-estimator-doc-link fitted\">i<span>Fitted</span></span></label><div class=\"sk-toggleable__content fitted\"><pre>LinearRegression()</pre></div> </div></div></div></div>"
     },
     "execution_count": 17,
     "metadata": {},
     "output_type": "execute_result"
    }
   ],
   "source": [
    "model = LinearRegression()\n",
    "\n",
    "model.fit(X_train, y_train)"
   ],
   "metadata": {
    "collapsed": false
   }
  },
  {
   "cell_type": "code",
   "execution_count": 18,
   "outputs": [],
   "source": [
    "y_pred = model.predict(X_test)"
   ],
   "metadata": {
    "collapsed": false
   }
  },
  {
   "cell_type": "code",
   "execution_count": 19,
   "outputs": [
    {
     "data": {
      "text/plain": "954     127500\n326     324000\n308      82500\n1058    335000\n416     149500\n         ...  \n297     239000\n1340    123000\n316     260000\n318     260000\n689     194700\nName: SalePrice, Length: 292, dtype: int64"
     },
     "execution_count": 19,
     "metadata": {},
     "output_type": "execute_result"
    }
   ],
   "source": [
    "y_test"
   ],
   "metadata": {
    "collapsed": false
   }
  },
  {
   "cell_type": "code",
   "execution_count": 20,
   "outputs": [
    {
     "data": {
      "text/plain": "numpy.ndarray"
     },
     "execution_count": 20,
     "metadata": {},
     "output_type": "execute_result"
    }
   ],
   "source": [
    "type(y_pred)"
   ],
   "metadata": {
    "collapsed": false
   }
  },
  {
   "cell_type": "code",
   "execution_count": 21,
   "outputs": [
    {
     "data": {
      "text/plain": "pandas.core.series.Series"
     },
     "execution_count": 21,
     "metadata": {},
     "output_type": "execute_result"
    }
   ],
   "source": [
    "type(y_test)"
   ],
   "metadata": {
    "collapsed": false
   }
  },
  {
   "cell_type": "code",
   "execution_count": 22,
   "outputs": [],
   "source": [
    "y_pred = pd.Series(y_pred)"
   ],
   "metadata": {
    "collapsed": false
   }
  },
  {
   "cell_type": "code",
   "execution_count": 23,
   "outputs": [
    {
     "data": {
      "text/plain": "0      155264.742602\n1      270659.631307\n2       95925.124290\n3      343043.308291\n4      148180.404803\n           ...      \n287    236137.099135\n288    123487.922242\n289    282334.132376\n290    314139.517727\n291    189957.301426\nLength: 292, dtype: float64"
     },
     "execution_count": 23,
     "metadata": {},
     "output_type": "execute_result"
    }
   ],
   "source": [
    "y_pred"
   ],
   "metadata": {
    "collapsed": false
   }
  },
  {
   "cell_type": "code",
   "execution_count": 30,
   "outputs": [
    {
     "name": "stdout",
     "output_type": "stream",
     "text": [
      "Средняя абсолютная ошибка: 21870.88161942671\n",
      "Средняя квадратичная ошибка: 1247658296.214129\n",
      "Средняя абсолютная процентная ошибка: 12.697327890166427 %\n"
     ]
    }
   ],
   "source": [
    "from sklearn.metrics import mean_absolute_error\n",
    "from sklearn.metrics import mean_squared_error\n",
    "from sklearn.metrics import mean_absolute_percentage_error\n",
    "\n",
    "mae = mean_absolute_error(y_test, y_pred)\n",
    "mse = mean_squared_error(y_test, y_pred)\n",
    "mape = mean_absolute_percentage_error(y_test, y_pred)\n",
    "print(\"Средняя абсолютная ошибка:\", mae)\n",
    "print(\"Средняя квадратичная ошибка:\", mse)\n",
    "print(\"Средняя абсолютная процентная ошибка:\", mape*100, \"%\")"
   ],
   "metadata": {
    "collapsed": false
   }
  },
  {
   "cell_type": "code",
   "execution_count": 26,
   "outputs": [
    {
     "data": {
      "text/plain": "954     127500\n326     324000\n308      82500\n1058    335000\n416     149500\n         ...  \n297     239000\n1340    123000\n316     260000\n318     260000\n689     194700\nName: SalePrice, Length: 292, dtype: int64"
     },
     "execution_count": 26,
     "metadata": {},
     "output_type": "execute_result"
    }
   ],
   "source": [
    "y_test"
   ],
   "metadata": {
    "collapsed": false
   }
  },
  {
   "cell_type": "code",
   "execution_count": 27,
   "outputs": [
    {
     "data": {
      "text/plain": "0      155264.742602\n1      270659.631307\n2       95925.124290\n3      343043.308291\n4      148180.404803\n           ...      \n287    236137.099135\n288    123487.922242\n289    282334.132376\n290    314139.517727\n291    189957.301426\nLength: 292, dtype: float64"
     },
     "execution_count": 27,
     "metadata": {},
     "output_type": "execute_result"
    }
   ],
   "source": [
    "y_pred"
   ],
   "metadata": {
    "collapsed": false
   }
  },
  {
   "cell_type": "code",
   "execution_count": null,
   "outputs": [],
   "source": [
    "x_test ="
   ],
   "metadata": {
    "collapsed": false
   }
  }
 ],
 "metadata": {
  "kernelspec": {
   "display_name": "Python 3",
   "language": "python",
   "name": "python3"
  },
  "language_info": {
   "codemirror_mode": {
    "name": "ipython",
    "version": 2
   },
   "file_extension": ".py",
   "mimetype": "text/x-python",
   "name": "python",
   "nbconvert_exporter": "python",
   "pygments_lexer": "ipython2",
   "version": "2.7.6"
  }
 },
 "nbformat": 4,
 "nbformat_minor": 0
}
