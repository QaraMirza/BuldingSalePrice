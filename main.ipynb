{
 "cells": [
  {
   "cell_type": "code",
   "execution_count": 1,
   "metadata": {
    "collapsed": true
   },
   "outputs": [],
   "source": [
    "import pandas as pd\n",
    "from sklearn.model_selection import train_test_split\n",
    "from sklearn.linear_model import LinearRegression"
   ]
  },
  {
   "cell_type": "code",
   "execution_count": 2,
   "outputs": [],
   "source": [
    "data = pd.read_csv('data/train.csv')"
   ],
   "metadata": {
    "collapsed": false
   }
  },
  {
   "cell_type": "markdown",
   "source": [
    "Проверяем данные"
   ],
   "metadata": {
    "collapsed": false
   }
  },
  {
   "cell_type": "code",
   "execution_count": 3,
   "outputs": [
    {
     "data": {
      "text/plain": "<bound method DataFrame.info of      LandContour  GarageYrBlt  FullBath  1stFlrSF  BsmtFinSF1  TotRmsAbvGrd  \\\n0            Lvl       2003.0         2       856         706             8   \n1            Lvl       1976.0         2      1262         978             6   \n2            Lvl       2001.0         2       920         486             6   \n3            Lvl       1998.0         1       961         216             7   \n4            Lvl       2000.0         2      1145         655             9   \n...          ...          ...       ...       ...         ...           ...   \n1455         Lvl       1999.0         2       953           0             7   \n1456         Lvl       1978.0         2      2073         790             7   \n1457         Lvl       1941.0         2      1188         275             9   \n1458         Lvl       1950.0         1      1078          49             5   \n1459         Lvl       1965.0         1      1256         830             6   \n\n     ExterQual  OpenPorchSF Heating Condition2  ...  GarageCars  KitchenQual  \\\n0           Gd           61    GasA       Norm  ...           2           Gd   \n1           TA            0    GasA       Norm  ...           2           TA   \n2           Gd           42    GasA       Norm  ...           2           Gd   \n3           TA           35    GasA       Norm  ...           3           Gd   \n4           Gd           84    GasA       Norm  ...           3           Gd   \n...        ...          ...     ...        ...  ...         ...          ...   \n1455        TA           40    GasA       Norm  ...           2           TA   \n1456        TA            0    GasA       Norm  ...           2           TA   \n1457        Ex           60    GasA       Norm  ...           1           Gd   \n1458        TA            0    GasA       Norm  ...           1           Gd   \n1459        Gd           68    GasA       Norm  ...           1           TA   \n\n     KitchenAbvGr  GrLivArea  2ndFlrSF  CentralAir BsmtQual TotalBsmtSF  \\\n0               1       1710       854           Y       Gd         856   \n1               1       1262         0           Y       Gd        1262   \n2               1       1786       866           Y       Gd         920   \n3               1       1717       756           Y       TA         756   \n4               1       2198      1053           Y       Gd        1145   \n...           ...        ...       ...         ...      ...         ...   \n1455            1       1647       694           Y       Gd         953   \n1456            1       2073         0           Y       Gd        1542   \n1457            1       2340      1152           Y       TA        1152   \n1458            1       1078         0           Y       TA        1078   \n1459            1       1256         0           Y       TA        1256   \n\n      Fireplaces  SalePrice  \n0              0     208500  \n1              1     181500  \n2              1     223500  \n3              1     140000  \n4              1     250000  \n...          ...        ...  \n1455           1     175000  \n1456           2     210000  \n1457           2     266500  \n1458           0     142125  \n1459           0     147500  \n\n[1460 rows x 21 columns]>"
     },
     "execution_count": 3,
     "metadata": {},
     "output_type": "execute_result"
    }
   ],
   "source": [
    "data.info"
   ],
   "metadata": {
    "collapsed": false
   }
  },
  {
   "cell_type": "code",
   "execution_count": 4,
   "outputs": [
    {
     "data": {
      "text/plain": "  LandContour  GarageYrBlt  FullBath  1stFlrSF  BsmtFinSF1  TotRmsAbvGrd  \\\n0         Lvl       2003.0         2       856         706             8   \n1         Lvl       1976.0         2      1262         978             6   \n2         Lvl       2001.0         2       920         486             6   \n3         Lvl       1998.0         1       961         216             7   \n4         Lvl       2000.0         2      1145         655             9   \n\n  ExterQual  OpenPorchSF Heating Condition2  ...  GarageCars  KitchenQual  \\\n0        Gd           61    GasA       Norm  ...           2           Gd   \n1        TA            0    GasA       Norm  ...           2           TA   \n2        Gd           42    GasA       Norm  ...           2           Gd   \n3        TA           35    GasA       Norm  ...           3           Gd   \n4        Gd           84    GasA       Norm  ...           3           Gd   \n\n  KitchenAbvGr  GrLivArea  2ndFlrSF  CentralAir BsmtQual TotalBsmtSF  \\\n0            1       1710       854           Y       Gd         856   \n1            1       1262         0           Y       Gd        1262   \n2            1       1786       866           Y       Gd         920   \n3            1       1717       756           Y       TA         756   \n4            1       2198      1053           Y       Gd        1145   \n\n   Fireplaces  SalePrice  \n0           0     208500  \n1           1     181500  \n2           1     223500  \n3           1     140000  \n4           1     250000  \n\n[5 rows x 21 columns]",
      "text/html": "<div>\n<style scoped>\n    .dataframe tbody tr th:only-of-type {\n        vertical-align: middle;\n    }\n\n    .dataframe tbody tr th {\n        vertical-align: top;\n    }\n\n    .dataframe thead th {\n        text-align: right;\n    }\n</style>\n<table border=\"1\" class=\"dataframe\">\n  <thead>\n    <tr style=\"text-align: right;\">\n      <th></th>\n      <th>LandContour</th>\n      <th>GarageYrBlt</th>\n      <th>FullBath</th>\n      <th>1stFlrSF</th>\n      <th>BsmtFinSF1</th>\n      <th>TotRmsAbvGrd</th>\n      <th>ExterQual</th>\n      <th>OpenPorchSF</th>\n      <th>Heating</th>\n      <th>Condition2</th>\n      <th>...</th>\n      <th>GarageCars</th>\n      <th>KitchenQual</th>\n      <th>KitchenAbvGr</th>\n      <th>GrLivArea</th>\n      <th>2ndFlrSF</th>\n      <th>CentralAir</th>\n      <th>BsmtQual</th>\n      <th>TotalBsmtSF</th>\n      <th>Fireplaces</th>\n      <th>SalePrice</th>\n    </tr>\n  </thead>\n  <tbody>\n    <tr>\n      <th>0</th>\n      <td>Lvl</td>\n      <td>2003.0</td>\n      <td>2</td>\n      <td>856</td>\n      <td>706</td>\n      <td>8</td>\n      <td>Gd</td>\n      <td>61</td>\n      <td>GasA</td>\n      <td>Norm</td>\n      <td>...</td>\n      <td>2</td>\n      <td>Gd</td>\n      <td>1</td>\n      <td>1710</td>\n      <td>854</td>\n      <td>Y</td>\n      <td>Gd</td>\n      <td>856</td>\n      <td>0</td>\n      <td>208500</td>\n    </tr>\n    <tr>\n      <th>1</th>\n      <td>Lvl</td>\n      <td>1976.0</td>\n      <td>2</td>\n      <td>1262</td>\n      <td>978</td>\n      <td>6</td>\n      <td>TA</td>\n      <td>0</td>\n      <td>GasA</td>\n      <td>Norm</td>\n      <td>...</td>\n      <td>2</td>\n      <td>TA</td>\n      <td>1</td>\n      <td>1262</td>\n      <td>0</td>\n      <td>Y</td>\n      <td>Gd</td>\n      <td>1262</td>\n      <td>1</td>\n      <td>181500</td>\n    </tr>\n    <tr>\n      <th>2</th>\n      <td>Lvl</td>\n      <td>2001.0</td>\n      <td>2</td>\n      <td>920</td>\n      <td>486</td>\n      <td>6</td>\n      <td>Gd</td>\n      <td>42</td>\n      <td>GasA</td>\n      <td>Norm</td>\n      <td>...</td>\n      <td>2</td>\n      <td>Gd</td>\n      <td>1</td>\n      <td>1786</td>\n      <td>866</td>\n      <td>Y</td>\n      <td>Gd</td>\n      <td>920</td>\n      <td>1</td>\n      <td>223500</td>\n    </tr>\n    <tr>\n      <th>3</th>\n      <td>Lvl</td>\n      <td>1998.0</td>\n      <td>1</td>\n      <td>961</td>\n      <td>216</td>\n      <td>7</td>\n      <td>TA</td>\n      <td>35</td>\n      <td>GasA</td>\n      <td>Norm</td>\n      <td>...</td>\n      <td>3</td>\n      <td>Gd</td>\n      <td>1</td>\n      <td>1717</td>\n      <td>756</td>\n      <td>Y</td>\n      <td>TA</td>\n      <td>756</td>\n      <td>1</td>\n      <td>140000</td>\n    </tr>\n    <tr>\n      <th>4</th>\n      <td>Lvl</td>\n      <td>2000.0</td>\n      <td>2</td>\n      <td>1145</td>\n      <td>655</td>\n      <td>9</td>\n      <td>Gd</td>\n      <td>84</td>\n      <td>GasA</td>\n      <td>Norm</td>\n      <td>...</td>\n      <td>3</td>\n      <td>Gd</td>\n      <td>1</td>\n      <td>2198</td>\n      <td>1053</td>\n      <td>Y</td>\n      <td>Gd</td>\n      <td>1145</td>\n      <td>1</td>\n      <td>250000</td>\n    </tr>\n  </tbody>\n</table>\n<p>5 rows × 21 columns</p>\n</div>"
     },
     "execution_count": 4,
     "metadata": {},
     "output_type": "execute_result"
    }
   ],
   "source": [
    "data.head()"
   ],
   "metadata": {
    "collapsed": false
   }
  },
  {
   "cell_type": "code",
   "execution_count": 5,
   "outputs": [
    {
     "data": {
      "text/plain": "LandContour      0\nGarageYrBlt     81\nFullBath         0\n1stFlrSF         0\nBsmtFinSF1       0\nTotRmsAbvGrd     0\nExterQual        0\nOpenPorchSF      0\nHeating          0\nCondition2       0\nOverallQual      0\nGarageCars       0\nKitchenQual      0\nKitchenAbvGr     0\nGrLivArea        0\n2ndFlrSF         0\nCentralAir       0\nBsmtQual        37\nTotalBsmtSF      0\nFireplaces       0\nSalePrice        0\ndtype: int64"
     },
     "execution_count": 5,
     "metadata": {},
     "output_type": "execute_result"
    }
   ],
   "source": [
    "data.isnull().sum()"
   ],
   "metadata": {
    "collapsed": false
   }
  },
  {
   "cell_type": "markdown",
   "source": [
    "Заполняем пустые ячейки информацией"
   ],
   "metadata": {
    "collapsed": false
   }
  },
  {
   "cell_type": "code",
   "execution_count": 6,
   "outputs": [],
   "source": [
    "data['GarageYrBlt'] = data['GarageYrBlt'].fillna(-1)"
   ],
   "metadata": {
    "collapsed": false
   }
  },
  {
   "cell_type": "code",
   "execution_count": 7,
   "outputs": [],
   "source": [
    "data['BsmtQual'] = data['BsmtQual'].fillna('NA')"
   ],
   "metadata": {
    "collapsed": false
   }
  },
  {
   "cell_type": "markdown",
   "source": [
    "Переводим величины из некатегориальных в категориальные (исчисляемые)"
   ],
   "metadata": {
    "collapsed": false
   }
  },
  {
   "cell_type": "code",
   "execution_count": 8,
   "outputs": [],
   "source": [
    "from sklearn.preprocessing import LabelEncoder\n",
    "\n",
    "label_encoder = LabelEncoder()\n",
    "data['GarageYrBlt'] = label_encoder.fit_transform(data['GarageYrBlt'])"
   ],
   "metadata": {
    "collapsed": false
   }
  },
  {
   "cell_type": "code",
   "execution_count": 9,
   "outputs": [],
   "source": [
    "from sklearn.preprocessing import OneHotEncoder\n",
    "\n",
    "onehot_encoder = OneHotEncoder(handle_unknown='ignore', sparse_output=False)"
   ],
   "metadata": {
    "collapsed": false
   }
  },
  {
   "cell_type": "code",
   "execution_count": 10,
   "outputs": [],
   "source": [
    "onehot_encoded = onehot_encoder.fit_transform(data[['LandContour', 'Heating', 'Condition2']])\n",
    "new_columns = onehot_encoder.get_feature_names_out(['LandContour', 'Heating', 'Condition2'])\n",
    "data = pd.concat([data, pd.DataFrame(onehot_encoded, columns=new_columns)], axis=1)\n",
    "data = data.drop(['LandContour', 'Heating', 'Condition2'], axis=1)"
   ],
   "metadata": {
    "collapsed": false
   }
  },
  {
   "cell_type": "code",
   "execution_count": 11,
   "outputs": [],
   "source": [
    "kitchen_qual_mapping = {\n",
    "    \"Ex\": 5,\n",
    "    \"Gd\": 4,\n",
    "    \"TA\": 3,\n",
    "    \"Fa\": 2,\n",
    "    \"Po\": 1\n",
    "}"
   ],
   "metadata": {
    "collapsed": false
   }
  },
  {
   "cell_type": "code",
   "execution_count": 12,
   "outputs": [],
   "source": [
    "exter_qual_mapping = {\n",
    "    \"Ex\": 5,\n",
    "    \"Gd\": 4,\n",
    "    \"TA\": 3,\n",
    "    \"Fa\": 2,\n",
    "    \"Po\": 1\n",
    "}"
   ],
   "metadata": {
    "collapsed": false
   }
  },
  {
   "cell_type": "code",
   "execution_count": 13,
   "outputs": [],
   "source": [
    "central_air_mapping = {\n",
    "    \"Y\": 1,\n",
    "    \"N\": 0\n",
    "}"
   ],
   "metadata": {
    "collapsed": false
   }
  },
  {
   "cell_type": "code",
   "execution_count": 14,
   "outputs": [],
   "source": [
    "bsmt_qual_mapping = {\n",
    "    \"Ex\": 6,\n",
    "    \"Gd\": 5,\n",
    "    \"TA\": 4,\n",
    "    \"Fa\": 3,\n",
    "    \"Po\": 2,\n",
    "    \"NA\": 1\n",
    "}"
   ],
   "metadata": {
    "collapsed": false
   }
  },
  {
   "cell_type": "code",
   "execution_count": 15,
   "outputs": [],
   "source": [
    "data['KitchenQual'] = data['KitchenQual'].map(kitchen_qual_mapping)\n",
    "data['ExterQual'] = data['ExterQual'].map(exter_qual_mapping)\n",
    "data['CentralAir'] = data['CentralAir'].map(central_air_mapping)\n",
    "data['BsmtQual'] = data['BsmtQual'].map(bsmt_qual_mapping)"
   ],
   "metadata": {
    "collapsed": false
   }
  },
  {
   "cell_type": "markdown",
   "source": [
    "Создаем выборки для тренировки и тестирования"
   ],
   "metadata": {
    "collapsed": false
   }
  },
  {
   "cell_type": "code",
   "execution_count": 16,
   "outputs": [],
   "source": [
    "X = data.drop('SalePrice', axis=1)\n",
    "y = data['SalePrice']\n",
    "\n",
    "X_train, X_test, y_train, y_test = train_test_split(X, y, test_size=0.2, random_state=20)"
   ],
   "metadata": {
    "collapsed": false
   }
  },
  {
   "cell_type": "code",
   "execution_count": 17,
   "outputs": [
    {
     "data": {
      "text/plain": "      GarageYrBlt  FullBath  1stFlrSF  BsmtFinSF1  TotRmsAbvGrd  ExterQual  \\\n1137            0         1       780           0             6          3   \n1335           64         2      1334         686             6          3   \n459            37         1       979         185             5          3   \n115            86         2       729         419             5          3   \n908            70         1       902         301             5          3   \n...           ...       ...       ...         ...           ...        ...   \n924            67         2      1686         625             7          3   \n1247           63         1      1034         539             6          3   \n271            41         1      1363         226             5          3   \n474            87         2      1652        1196             6          4   \n1379           94         2       754           0             7          3   \n\n      OpenPorchSF  OverallQual  GarageCars  KitchenQual  ...  Heating_OthW  \\\n1137            0            5           0            3  ...           0.0   \n1335           16            6           2            3  ...           0.0   \n459             0            5           1            4  ...           0.0   \n115            32            6           2            3  ...           0.0   \n908             0            5           2            3  ...           0.0   \n...           ...          ...         ...          ...  ...           ...   \n924           131            6           2            3  ...           0.0   \n1247            0            6           3            3  ...           0.0   \n271             0            7           2            3  ...           0.0   \n474            48            8           2            5  ...           0.0   \n1379            0            5           2            4  ...           0.0   \n\n      Heating_Wall  Condition2_Artery  Condition2_Feedr  Condition2_Norm  \\\n1137           0.0                0.0               0.0              1.0   \n1335           0.0                0.0               0.0              1.0   \n459            0.0                0.0               0.0              1.0   \n115            0.0                0.0               0.0              1.0   \n908            0.0                0.0               0.0              1.0   \n...            ...                ...               ...              ...   \n924            0.0                0.0               0.0              1.0   \n1247           0.0                0.0               0.0              1.0   \n271            0.0                0.0               0.0              1.0   \n474            0.0                0.0               0.0              1.0   \n1379           0.0                0.0               0.0              1.0   \n\n      Condition2_PosA  Condition2_PosN  Condition2_RRAe  Condition2_RRAn  \\\n1137              0.0              0.0              0.0              0.0   \n1335              0.0              0.0              0.0              0.0   \n459               0.0              0.0              0.0              0.0   \n115               0.0              0.0              0.0              0.0   \n908               0.0              0.0              0.0              0.0   \n...               ...              ...              ...              ...   \n924               0.0              0.0              0.0              0.0   \n1247              0.0              0.0              0.0              0.0   \n271               0.0              0.0              0.0              0.0   \n474               0.0              0.0              0.0              0.0   \n1379              0.0              0.0              0.0              0.0   \n\n      Condition2_RRNn  \n1137              0.0  \n1335              0.0  \n459               0.0  \n115               0.0  \n908               0.0  \n...               ...  \n924               0.0  \n1247              0.0  \n271               0.0  \n474               0.0  \n1379              0.0  \n\n[1168 rows x 35 columns]",
      "text/html": "<div>\n<style scoped>\n    .dataframe tbody tr th:only-of-type {\n        vertical-align: middle;\n    }\n\n    .dataframe tbody tr th {\n        vertical-align: top;\n    }\n\n    .dataframe thead th {\n        text-align: right;\n    }\n</style>\n<table border=\"1\" class=\"dataframe\">\n  <thead>\n    <tr style=\"text-align: right;\">\n      <th></th>\n      <th>GarageYrBlt</th>\n      <th>FullBath</th>\n      <th>1stFlrSF</th>\n      <th>BsmtFinSF1</th>\n      <th>TotRmsAbvGrd</th>\n      <th>ExterQual</th>\n      <th>OpenPorchSF</th>\n      <th>OverallQual</th>\n      <th>GarageCars</th>\n      <th>KitchenQual</th>\n      <th>...</th>\n      <th>Heating_OthW</th>\n      <th>Heating_Wall</th>\n      <th>Condition2_Artery</th>\n      <th>Condition2_Feedr</th>\n      <th>Condition2_Norm</th>\n      <th>Condition2_PosA</th>\n      <th>Condition2_PosN</th>\n      <th>Condition2_RRAe</th>\n      <th>Condition2_RRAn</th>\n      <th>Condition2_RRNn</th>\n    </tr>\n  </thead>\n  <tbody>\n    <tr>\n      <th>1137</th>\n      <td>0</td>\n      <td>1</td>\n      <td>780</td>\n      <td>0</td>\n      <td>6</td>\n      <td>3</td>\n      <td>0</td>\n      <td>5</td>\n      <td>0</td>\n      <td>3</td>\n      <td>...</td>\n      <td>0.0</td>\n      <td>0.0</td>\n      <td>0.0</td>\n      <td>0.0</td>\n      <td>1.0</td>\n      <td>0.0</td>\n      <td>0.0</td>\n      <td>0.0</td>\n      <td>0.0</td>\n      <td>0.0</td>\n    </tr>\n    <tr>\n      <th>1335</th>\n      <td>64</td>\n      <td>2</td>\n      <td>1334</td>\n      <td>686</td>\n      <td>6</td>\n      <td>3</td>\n      <td>16</td>\n      <td>6</td>\n      <td>2</td>\n      <td>3</td>\n      <td>...</td>\n      <td>0.0</td>\n      <td>0.0</td>\n      <td>0.0</td>\n      <td>0.0</td>\n      <td>1.0</td>\n      <td>0.0</td>\n      <td>0.0</td>\n      <td>0.0</td>\n      <td>0.0</td>\n      <td>0.0</td>\n    </tr>\n    <tr>\n      <th>459</th>\n      <td>37</td>\n      <td>1</td>\n      <td>979</td>\n      <td>185</td>\n      <td>5</td>\n      <td>3</td>\n      <td>0</td>\n      <td>5</td>\n      <td>1</td>\n      <td>4</td>\n      <td>...</td>\n      <td>0.0</td>\n      <td>0.0</td>\n      <td>0.0</td>\n      <td>0.0</td>\n      <td>1.0</td>\n      <td>0.0</td>\n      <td>0.0</td>\n      <td>0.0</td>\n      <td>0.0</td>\n      <td>0.0</td>\n    </tr>\n    <tr>\n      <th>115</th>\n      <td>86</td>\n      <td>2</td>\n      <td>729</td>\n      <td>419</td>\n      <td>5</td>\n      <td>3</td>\n      <td>32</td>\n      <td>6</td>\n      <td>2</td>\n      <td>3</td>\n      <td>...</td>\n      <td>0.0</td>\n      <td>0.0</td>\n      <td>0.0</td>\n      <td>0.0</td>\n      <td>1.0</td>\n      <td>0.0</td>\n      <td>0.0</td>\n      <td>0.0</td>\n      <td>0.0</td>\n      <td>0.0</td>\n    </tr>\n    <tr>\n      <th>908</th>\n      <td>70</td>\n      <td>1</td>\n      <td>902</td>\n      <td>301</td>\n      <td>5</td>\n      <td>3</td>\n      <td>0</td>\n      <td>5</td>\n      <td>2</td>\n      <td>3</td>\n      <td>...</td>\n      <td>0.0</td>\n      <td>0.0</td>\n      <td>0.0</td>\n      <td>0.0</td>\n      <td>1.0</td>\n      <td>0.0</td>\n      <td>0.0</td>\n      <td>0.0</td>\n      <td>0.0</td>\n      <td>0.0</td>\n    </tr>\n    <tr>\n      <th>...</th>\n      <td>...</td>\n      <td>...</td>\n      <td>...</td>\n      <td>...</td>\n      <td>...</td>\n      <td>...</td>\n      <td>...</td>\n      <td>...</td>\n      <td>...</td>\n      <td>...</td>\n      <td>...</td>\n      <td>...</td>\n      <td>...</td>\n      <td>...</td>\n      <td>...</td>\n      <td>...</td>\n      <td>...</td>\n      <td>...</td>\n      <td>...</td>\n      <td>...</td>\n      <td>...</td>\n    </tr>\n    <tr>\n      <th>924</th>\n      <td>67</td>\n      <td>2</td>\n      <td>1686</td>\n      <td>625</td>\n      <td>7</td>\n      <td>3</td>\n      <td>131</td>\n      <td>6</td>\n      <td>2</td>\n      <td>3</td>\n      <td>...</td>\n      <td>0.0</td>\n      <td>0.0</td>\n      <td>0.0</td>\n      <td>0.0</td>\n      <td>1.0</td>\n      <td>0.0</td>\n      <td>0.0</td>\n      <td>0.0</td>\n      <td>0.0</td>\n      <td>0.0</td>\n    </tr>\n    <tr>\n      <th>1247</th>\n      <td>63</td>\n      <td>1</td>\n      <td>1034</td>\n      <td>539</td>\n      <td>6</td>\n      <td>3</td>\n      <td>0</td>\n      <td>6</td>\n      <td>3</td>\n      <td>3</td>\n      <td>...</td>\n      <td>0.0</td>\n      <td>0.0</td>\n      <td>0.0</td>\n      <td>0.0</td>\n      <td>1.0</td>\n      <td>0.0</td>\n      <td>0.0</td>\n      <td>0.0</td>\n      <td>0.0</td>\n      <td>0.0</td>\n    </tr>\n    <tr>\n      <th>271</th>\n      <td>41</td>\n      <td>1</td>\n      <td>1363</td>\n      <td>226</td>\n      <td>5</td>\n      <td>3</td>\n      <td>0</td>\n      <td>7</td>\n      <td>2</td>\n      <td>3</td>\n      <td>...</td>\n      <td>0.0</td>\n      <td>0.0</td>\n      <td>0.0</td>\n      <td>0.0</td>\n      <td>1.0</td>\n      <td>0.0</td>\n      <td>0.0</td>\n      <td>0.0</td>\n      <td>0.0</td>\n      <td>0.0</td>\n    </tr>\n    <tr>\n      <th>474</th>\n      <td>87</td>\n      <td>2</td>\n      <td>1652</td>\n      <td>1196</td>\n      <td>6</td>\n      <td>4</td>\n      <td>48</td>\n      <td>8</td>\n      <td>2</td>\n      <td>5</td>\n      <td>...</td>\n      <td>0.0</td>\n      <td>0.0</td>\n      <td>0.0</td>\n      <td>0.0</td>\n      <td>1.0</td>\n      <td>0.0</td>\n      <td>0.0</td>\n      <td>0.0</td>\n      <td>0.0</td>\n      <td>0.0</td>\n    </tr>\n    <tr>\n      <th>1379</th>\n      <td>94</td>\n      <td>2</td>\n      <td>754</td>\n      <td>0</td>\n      <td>7</td>\n      <td>3</td>\n      <td>0</td>\n      <td>5</td>\n      <td>2</td>\n      <td>4</td>\n      <td>...</td>\n      <td>0.0</td>\n      <td>0.0</td>\n      <td>0.0</td>\n      <td>0.0</td>\n      <td>1.0</td>\n      <td>0.0</td>\n      <td>0.0</td>\n      <td>0.0</td>\n      <td>0.0</td>\n      <td>0.0</td>\n    </tr>\n  </tbody>\n</table>\n<p>1168 rows × 35 columns</p>\n</div>"
     },
     "execution_count": 17,
     "metadata": {},
     "output_type": "execute_result"
    }
   ],
   "source": [
    "X_train"
   ],
   "metadata": {
    "collapsed": false
   }
  },
  {
   "cell_type": "markdown",
   "source": [
    "Обучаем модель"
   ],
   "metadata": {
    "collapsed": false
   }
  },
  {
   "cell_type": "code",
   "execution_count": 18,
   "outputs": [
    {
     "data": {
      "text/plain": "LinearRegression()",
      "text/html": "<style>#sk-container-id-1 {\n  /* Definition of color scheme common for light and dark mode */\n  --sklearn-color-text: black;\n  --sklearn-color-line: gray;\n  /* Definition of color scheme for unfitted estimators */\n  --sklearn-color-unfitted-level-0: #fff5e6;\n  --sklearn-color-unfitted-level-1: #f6e4d2;\n  --sklearn-color-unfitted-level-2: #ffe0b3;\n  --sklearn-color-unfitted-level-3: chocolate;\n  /* Definition of color scheme for fitted estimators */\n  --sklearn-color-fitted-level-0: #f0f8ff;\n  --sklearn-color-fitted-level-1: #d4ebff;\n  --sklearn-color-fitted-level-2: #b3dbfd;\n  --sklearn-color-fitted-level-3: cornflowerblue;\n\n  /* Specific color for light theme */\n  --sklearn-color-text-on-default-background: var(--sg-text-color, var(--theme-code-foreground, var(--jp-content-font-color1, black)));\n  --sklearn-color-background: var(--sg-background-color, var(--theme-background, var(--jp-layout-color0, white)));\n  --sklearn-color-border-box: var(--sg-text-color, var(--theme-code-foreground, var(--jp-content-font-color1, black)));\n  --sklearn-color-icon: #696969;\n\n  @media (prefers-color-scheme: dark) {\n    /* Redefinition of color scheme for dark theme */\n    --sklearn-color-text-on-default-background: var(--sg-text-color, var(--theme-code-foreground, var(--jp-content-font-color1, white)));\n    --sklearn-color-background: var(--sg-background-color, var(--theme-background, var(--jp-layout-color0, #111)));\n    --sklearn-color-border-box: var(--sg-text-color, var(--theme-code-foreground, var(--jp-content-font-color1, white)));\n    --sklearn-color-icon: #878787;\n  }\n}\n\n#sk-container-id-1 {\n  color: var(--sklearn-color-text);\n}\n\n#sk-container-id-1 pre {\n  padding: 0;\n}\n\n#sk-container-id-1 input.sk-hidden--visually {\n  border: 0;\n  clip: rect(1px 1px 1px 1px);\n  clip: rect(1px, 1px, 1px, 1px);\n  height: 1px;\n  margin: -1px;\n  overflow: hidden;\n  padding: 0;\n  position: absolute;\n  width: 1px;\n}\n\n#sk-container-id-1 div.sk-dashed-wrapped {\n  border: 1px dashed var(--sklearn-color-line);\n  margin: 0 0.4em 0.5em 0.4em;\n  box-sizing: border-box;\n  padding-bottom: 0.4em;\n  background-color: var(--sklearn-color-background);\n}\n\n#sk-container-id-1 div.sk-container {\n  /* jupyter's `normalize.less` sets `[hidden] { display: none; }`\n     but bootstrap.min.css set `[hidden] { display: none !important; }`\n     so we also need the `!important` here to be able to override the\n     default hidden behavior on the sphinx rendered scikit-learn.org.\n     See: https://github.com/scikit-learn/scikit-learn/issues/21755 */\n  display: inline-block !important;\n  position: relative;\n}\n\n#sk-container-id-1 div.sk-text-repr-fallback {\n  display: none;\n}\n\ndiv.sk-parallel-item,\ndiv.sk-serial,\ndiv.sk-item {\n  /* draw centered vertical line to link estimators */\n  background-image: linear-gradient(var(--sklearn-color-text-on-default-background), var(--sklearn-color-text-on-default-background));\n  background-size: 2px 100%;\n  background-repeat: no-repeat;\n  background-position: center center;\n}\n\n/* Parallel-specific style estimator block */\n\n#sk-container-id-1 div.sk-parallel-item::after {\n  content: \"\";\n  width: 100%;\n  border-bottom: 2px solid var(--sklearn-color-text-on-default-background);\n  flex-grow: 1;\n}\n\n#sk-container-id-1 div.sk-parallel {\n  display: flex;\n  align-items: stretch;\n  justify-content: center;\n  background-color: var(--sklearn-color-background);\n  position: relative;\n}\n\n#sk-container-id-1 div.sk-parallel-item {\n  display: flex;\n  flex-direction: column;\n}\n\n#sk-container-id-1 div.sk-parallel-item:first-child::after {\n  align-self: flex-end;\n  width: 50%;\n}\n\n#sk-container-id-1 div.sk-parallel-item:last-child::after {\n  align-self: flex-start;\n  width: 50%;\n}\n\n#sk-container-id-1 div.sk-parallel-item:only-child::after {\n  width: 0;\n}\n\n/* Serial-specific style estimator block */\n\n#sk-container-id-1 div.sk-serial {\n  display: flex;\n  flex-direction: column;\n  align-items: center;\n  background-color: var(--sklearn-color-background);\n  padding-right: 1em;\n  padding-left: 1em;\n}\n\n\n/* Toggleable style: style used for estimator/Pipeline/ColumnTransformer box that is\nclickable and can be expanded/collapsed.\n- Pipeline and ColumnTransformer use this feature and define the default style\n- Estimators will overwrite some part of the style using the `sk-estimator` class\n*/\n\n/* Pipeline and ColumnTransformer style (default) */\n\n#sk-container-id-1 div.sk-toggleable {\n  /* Default theme specific background. It is overwritten whether we have a\n  specific estimator or a Pipeline/ColumnTransformer */\n  background-color: var(--sklearn-color-background);\n}\n\n/* Toggleable label */\n#sk-container-id-1 label.sk-toggleable__label {\n  cursor: pointer;\n  display: block;\n  width: 100%;\n  margin-bottom: 0;\n  padding: 0.5em;\n  box-sizing: border-box;\n  text-align: center;\n}\n\n#sk-container-id-1 label.sk-toggleable__label-arrow:before {\n  /* Arrow on the left of the label */\n  content: \"▸\";\n  float: left;\n  margin-right: 0.25em;\n  color: var(--sklearn-color-icon);\n}\n\n#sk-container-id-1 label.sk-toggleable__label-arrow:hover:before {\n  color: var(--sklearn-color-text);\n}\n\n/* Toggleable content - dropdown */\n\n#sk-container-id-1 div.sk-toggleable__content {\n  max-height: 0;\n  max-width: 0;\n  overflow: hidden;\n  text-align: left;\n  /* unfitted */\n  background-color: var(--sklearn-color-unfitted-level-0);\n}\n\n#sk-container-id-1 div.sk-toggleable__content.fitted {\n  /* fitted */\n  background-color: var(--sklearn-color-fitted-level-0);\n}\n\n#sk-container-id-1 div.sk-toggleable__content pre {\n  margin: 0.2em;\n  border-radius: 0.25em;\n  color: var(--sklearn-color-text);\n  /* unfitted */\n  background-color: var(--sklearn-color-unfitted-level-0);\n}\n\n#sk-container-id-1 div.sk-toggleable__content.fitted pre {\n  /* unfitted */\n  background-color: var(--sklearn-color-fitted-level-0);\n}\n\n#sk-container-id-1 input.sk-toggleable__control:checked~div.sk-toggleable__content {\n  /* Expand drop-down */\n  max-height: 200px;\n  max-width: 100%;\n  overflow: auto;\n}\n\n#sk-container-id-1 input.sk-toggleable__control:checked~label.sk-toggleable__label-arrow:before {\n  content: \"▾\";\n}\n\n/* Pipeline/ColumnTransformer-specific style */\n\n#sk-container-id-1 div.sk-label input.sk-toggleable__control:checked~label.sk-toggleable__label {\n  color: var(--sklearn-color-text);\n  background-color: var(--sklearn-color-unfitted-level-2);\n}\n\n#sk-container-id-1 div.sk-label.fitted input.sk-toggleable__control:checked~label.sk-toggleable__label {\n  background-color: var(--sklearn-color-fitted-level-2);\n}\n\n/* Estimator-specific style */\n\n/* Colorize estimator box */\n#sk-container-id-1 div.sk-estimator input.sk-toggleable__control:checked~label.sk-toggleable__label {\n  /* unfitted */\n  background-color: var(--sklearn-color-unfitted-level-2);\n}\n\n#sk-container-id-1 div.sk-estimator.fitted input.sk-toggleable__control:checked~label.sk-toggleable__label {\n  /* fitted */\n  background-color: var(--sklearn-color-fitted-level-2);\n}\n\n#sk-container-id-1 div.sk-label label.sk-toggleable__label,\n#sk-container-id-1 div.sk-label label {\n  /* The background is the default theme color */\n  color: var(--sklearn-color-text-on-default-background);\n}\n\n/* On hover, darken the color of the background */\n#sk-container-id-1 div.sk-label:hover label.sk-toggleable__label {\n  color: var(--sklearn-color-text);\n  background-color: var(--sklearn-color-unfitted-level-2);\n}\n\n/* Label box, darken color on hover, fitted */\n#sk-container-id-1 div.sk-label.fitted:hover label.sk-toggleable__label.fitted {\n  color: var(--sklearn-color-text);\n  background-color: var(--sklearn-color-fitted-level-2);\n}\n\n/* Estimator label */\n\n#sk-container-id-1 div.sk-label label {\n  font-family: monospace;\n  font-weight: bold;\n  display: inline-block;\n  line-height: 1.2em;\n}\n\n#sk-container-id-1 div.sk-label-container {\n  text-align: center;\n}\n\n/* Estimator-specific */\n#sk-container-id-1 div.sk-estimator {\n  font-family: monospace;\n  border: 1px dotted var(--sklearn-color-border-box);\n  border-radius: 0.25em;\n  box-sizing: border-box;\n  margin-bottom: 0.5em;\n  /* unfitted */\n  background-color: var(--sklearn-color-unfitted-level-0);\n}\n\n#sk-container-id-1 div.sk-estimator.fitted {\n  /* fitted */\n  background-color: var(--sklearn-color-fitted-level-0);\n}\n\n/* on hover */\n#sk-container-id-1 div.sk-estimator:hover {\n  /* unfitted */\n  background-color: var(--sklearn-color-unfitted-level-2);\n}\n\n#sk-container-id-1 div.sk-estimator.fitted:hover {\n  /* fitted */\n  background-color: var(--sklearn-color-fitted-level-2);\n}\n\n/* Specification for estimator info (e.g. \"i\" and \"?\") */\n\n/* Common style for \"i\" and \"?\" */\n\n.sk-estimator-doc-link,\na:link.sk-estimator-doc-link,\na:visited.sk-estimator-doc-link {\n  float: right;\n  font-size: smaller;\n  line-height: 1em;\n  font-family: monospace;\n  background-color: var(--sklearn-color-background);\n  border-radius: 1em;\n  height: 1em;\n  width: 1em;\n  text-decoration: none !important;\n  margin-left: 1ex;\n  /* unfitted */\n  border: var(--sklearn-color-unfitted-level-1) 1pt solid;\n  color: var(--sklearn-color-unfitted-level-1);\n}\n\n.sk-estimator-doc-link.fitted,\na:link.sk-estimator-doc-link.fitted,\na:visited.sk-estimator-doc-link.fitted {\n  /* fitted */\n  border: var(--sklearn-color-fitted-level-1) 1pt solid;\n  color: var(--sklearn-color-fitted-level-1);\n}\n\n/* On hover */\ndiv.sk-estimator:hover .sk-estimator-doc-link:hover,\n.sk-estimator-doc-link:hover,\ndiv.sk-label-container:hover .sk-estimator-doc-link:hover,\n.sk-estimator-doc-link:hover {\n  /* unfitted */\n  background-color: var(--sklearn-color-unfitted-level-3);\n  color: var(--sklearn-color-background);\n  text-decoration: none;\n}\n\ndiv.sk-estimator.fitted:hover .sk-estimator-doc-link.fitted:hover,\n.sk-estimator-doc-link.fitted:hover,\ndiv.sk-label-container:hover .sk-estimator-doc-link.fitted:hover,\n.sk-estimator-doc-link.fitted:hover {\n  /* fitted */\n  background-color: var(--sklearn-color-fitted-level-3);\n  color: var(--sklearn-color-background);\n  text-decoration: none;\n}\n\n/* Span, style for the box shown on hovering the info icon */\n.sk-estimator-doc-link span {\n  display: none;\n  z-index: 9999;\n  position: relative;\n  font-weight: normal;\n  right: .2ex;\n  padding: .5ex;\n  margin: .5ex;\n  width: min-content;\n  min-width: 20ex;\n  max-width: 50ex;\n  color: var(--sklearn-color-text);\n  box-shadow: 2pt 2pt 4pt #999;\n  /* unfitted */\n  background: var(--sklearn-color-unfitted-level-0);\n  border: .5pt solid var(--sklearn-color-unfitted-level-3);\n}\n\n.sk-estimator-doc-link.fitted span {\n  /* fitted */\n  background: var(--sklearn-color-fitted-level-0);\n  border: var(--sklearn-color-fitted-level-3);\n}\n\n.sk-estimator-doc-link:hover span {\n  display: block;\n}\n\n/* \"?\"-specific style due to the `<a>` HTML tag */\n\n#sk-container-id-1 a.estimator_doc_link {\n  float: right;\n  font-size: 1rem;\n  line-height: 1em;\n  font-family: monospace;\n  background-color: var(--sklearn-color-background);\n  border-radius: 1rem;\n  height: 1rem;\n  width: 1rem;\n  text-decoration: none;\n  /* unfitted */\n  color: var(--sklearn-color-unfitted-level-1);\n  border: var(--sklearn-color-unfitted-level-1) 1pt solid;\n}\n\n#sk-container-id-1 a.estimator_doc_link.fitted {\n  /* fitted */\n  border: var(--sklearn-color-fitted-level-1) 1pt solid;\n  color: var(--sklearn-color-fitted-level-1);\n}\n\n/* On hover */\n#sk-container-id-1 a.estimator_doc_link:hover {\n  /* unfitted */\n  background-color: var(--sklearn-color-unfitted-level-3);\n  color: var(--sklearn-color-background);\n  text-decoration: none;\n}\n\n#sk-container-id-1 a.estimator_doc_link.fitted:hover {\n  /* fitted */\n  background-color: var(--sklearn-color-fitted-level-3);\n}\n</style><div id=\"sk-container-id-1\" class=\"sk-top-container\"><div class=\"sk-text-repr-fallback\"><pre>LinearRegression()</pre><b>In a Jupyter environment, please rerun this cell to show the HTML representation or trust the notebook. <br />On GitHub, the HTML representation is unable to render, please try loading this page with nbviewer.org.</b></div><div class=\"sk-container\" hidden><div class=\"sk-item\"><div class=\"sk-estimator fitted sk-toggleable\"><input class=\"sk-toggleable__control sk-hidden--visually\" id=\"sk-estimator-id-1\" type=\"checkbox\" checked><label for=\"sk-estimator-id-1\" class=\"sk-toggleable__label fitted sk-toggleable__label-arrow fitted\">&nbsp;&nbsp;LinearRegression<a class=\"sk-estimator-doc-link fitted\" rel=\"noreferrer\" target=\"_blank\" href=\"https://scikit-learn.org/1.4/modules/generated/sklearn.linear_model.LinearRegression.html\">?<span>Documentation for LinearRegression</span></a><span class=\"sk-estimator-doc-link fitted\">i<span>Fitted</span></span></label><div class=\"sk-toggleable__content fitted\"><pre>LinearRegression()</pre></div> </div></div></div></div>"
     },
     "execution_count": 18,
     "metadata": {},
     "output_type": "execute_result"
    }
   ],
   "source": [
    "model = LinearRegression()\n",
    "\n",
    "model.fit(X_train, y_train)"
   ],
   "metadata": {
    "collapsed": false
   }
  },
  {
   "cell_type": "markdown",
   "source": [
    "Делаем предсказание"
   ],
   "metadata": {
    "collapsed": false
   }
  },
  {
   "cell_type": "code",
   "execution_count": 19,
   "outputs": [],
   "source": [
    "y_pred = model.predict(X_test)"
   ],
   "metadata": {
    "collapsed": false
   }
  },
  {
   "cell_type": "code",
   "execution_count": 20,
   "outputs": [
    {
     "name": "stdout",
     "output_type": "stream",
     "text": [
      "Средняя абсолютная ошибка: 21870.88161942671\n",
      "Средняя абсолютная процентная ошибка: 12.697327890166427 %\n"
     ]
    }
   ],
   "source": [
    "from sklearn.metrics import mean_absolute_error\n",
    "from sklearn.metrics import mean_absolute_percentage_error\n",
    "\n",
    "mae = mean_absolute_error(y_test, y_pred)\n",
    "mape = mean_absolute_percentage_error(y_test, y_pred)\n",
    "print(\"Средняя абсолютная ошибка:\", mae)\n",
    "print(\"Средняя абсолютная процентная ошибка:\", mape*100, \"%\")"
   ],
   "metadata": {
    "collapsed": false
   }
  },
  {
   "cell_type": "code",
   "execution_count": 21,
   "outputs": [
    {
     "data": {
      "text/plain": "954     127500\n326     324000\n308      82500\n1058    335000\n416     149500\n         ...  \n297     239000\n1340    123000\n316     260000\n318     260000\n689     194700\nName: SalePrice, Length: 292, dtype: int64"
     },
     "execution_count": 21,
     "metadata": {},
     "output_type": "execute_result"
    }
   ],
   "source": [
    "y_test"
   ],
   "metadata": {
    "collapsed": false
   }
  },
  {
   "cell_type": "code",
   "execution_count": 22,
   "outputs": [
    {
     "data": {
      "text/plain": "array([155264.74260226, 270659.6313074 ,  95925.12429005, 343043.30829067,\n       148180.40480273, 282184.05988635, 198547.88350702, 213638.30329086,\n       139833.17814524, 245339.02548135, 283659.76950322, 128916.12021051,\n       210912.93019371, 165690.84902092,  96506.4536442 ,  98147.60471198,\n       107426.77084669,  71386.45447118, 219849.07064158, 142879.93929504,\n       153331.72903435, 199933.7447421 , 243284.32285333, 131489.87606685,\n       210986.88008265, 218072.84534911, 106341.33228927, 111757.21015337,\n        81119.57729756,  67727.97062946, 115447.77877028, 280463.35426812,\n       198861.36665491, 112761.42626142, 104326.22606361, 172966.40401428,\n       138837.27150071, 218526.60498757, 165924.74873504, 267357.64847181,\n       141997.79512879,  98350.78387531, 259139.93721015, 104746.63522964,\n       174304.70094069, 153180.97905773, 158747.58661379, 395931.75162663,\n       224541.33726512, 111093.21920071,  87270.82774308, 238034.80158136,\n       177531.78842464, 208852.89945727, 228153.60204891, 248550.60095469,\n       116883.18181106, 204651.21044757, 100837.91386089,  62354.49994891,\n       118898.99818231, 200869.47731405, 208428.98434118, 179699.6937367 ,\n       212716.46968082, 173152.64880246, 132966.33766872, 113921.17188274,\n       210784.37637325, 148162.13795796, 168983.11743849, 112227.75176356,\n       249516.68041998, 231233.84768479, 122832.56978946, 188987.02743727,\n       117942.68793407, 130254.07767625, 195626.06966323, 240632.57486391,\n       309977.43335419,  95290.82893006, 168683.88514689, 113167.65507779,\n       192708.51460877, 204503.94457811, 138315.80010871,  76808.83682168,\n       143738.96415331, 257493.2787866 , 124765.64986412, 158747.38976789,\n       215876.60757371, 187713.09842002, 291713.21976036, 196765.66927605,\n       118254.3992493 , 144091.90685214, 152938.16089007, 141259.40824706,\n       256600.96723031, 166611.06591432,  96923.63900999, 229067.23665108,\n       214490.22618556,  98769.24590489, 209052.90225194, 106687.217874  ,\n       113665.97797901, 374877.68191964, 213230.85058145, 209053.00587822,\n       109467.11789276, 375599.86562685, 221757.25919652, 193035.91942596,\n       130845.92136839, 230459.38698052, 154990.68503509, 164026.43789288,\n       190099.16093692,  86339.40724849, 239975.91125428, 171258.22501449,\n       223327.88807122, 213321.17047507, 191373.79689095, 192123.13263196,\n       174333.98154596, 177863.7859202 , 119846.33589387, 174382.4172488 ,\n       185100.51298197, 204356.18166625, 111854.88296469, 137698.24500878,\n       212105.46999202, 135064.28535814, 349306.41166479, 207446.50355232,\n       143999.93147074, 157205.80396594, 231289.09935783, 193091.79407317,\n       126243.36303795, 155096.87440267, 256421.88573837, 160693.68018338,\n       108995.91664662, 107284.38003515, 180159.27184282, 136225.64675203,\n       249559.54718978, 113100.25800817, 144708.15200345, 115268.4937605 ,\n       138323.98087303, 331295.09216899, 121307.45070062, 217751.64992284,\n       138424.96383283, 108554.03733312, 240928.88536423, 192511.70903846,\n       141768.32816762, 215929.61363919, 128710.35722197, 253727.51712244,\n       295120.57911511, 235147.54923533, 247870.52980204, 160149.30838649,\n       167873.32432103, 160872.52908358, 201261.3800468 , 150548.78261782,\n        87686.17510357, 195580.81276813, 168539.49594594, 209105.11627585,\n       133891.04210744, 134256.59364956, 206283.59705475, 264998.76061095,\n       216967.73756674, 139136.81816067, 109342.12429395, 364077.75942503,\n       178494.98437619, 215025.30770426,  79477.41303276, 399418.36470665,\n       168273.24737698,  85674.741638  , 220113.92068658, 254684.15653456,\n       129027.87892274, 239548.65006789, 102726.80965023, 190080.10115941,\n       469303.18634234, 202704.43658527, 202209.83191477, 129847.69716666,\n       162511.9232662 , 174211.12964387, 212415.26465059, 206825.24970942,\n       165245.35417558, 159978.39261932, 228392.93759167, 100210.23855133,\n       107106.73912349, 156539.96698319, 218981.94956907, 138085.64676962,\n       251720.27591411, 180414.30482169, 307590.57251159, 104899.67601792,\n        95506.30383869, 217935.4554233 , 211987.81561843, 193924.83052025,\n       219184.37919393, 248243.22682125, 123121.14881368, 189249.56263453,\n       105880.2851269 , 196089.51311396,  73589.22112207, 225182.33336924,\n       270746.86688834, 102210.23359027, 311961.84810237, 154034.76564243,\n       148742.01424699, 115938.15752377, 171239.88093136, 204894.40343826,\n       162677.91207578, 174999.33626127, 135910.28287871, 114770.07531905,\n       175644.9569025 , 180718.57657561, 148324.3463424 , 227986.87359349,\n       232716.51436693, 101625.11932613, 217975.59479934, 163856.04652811,\n       290968.24099156, 135618.40092406, 234324.57978608, 331007.86993245,\n       205131.73975001, 172192.76646648, 300935.9383227 , 167587.53619214,\n       125233.00955567, 152068.32416895,  78470.58068285, 109523.43898715,\n       256982.11332015, 212471.01099654, 248809.8869379 ,  97357.87292939,\n       141933.22162131, 205158.551014  , 283344.0001446 , 194558.01285654,\n       166804.86502185, 147186.38115933, 198781.80055016, 155444.85693471,\n       190513.37569322, 120766.49982344, 230199.07028488, 166510.14222134,\n       149710.70779337, 275744.03370926, 136621.73083516, 126980.79526763,\n       205608.18376819,  40670.54352694, 225035.7506931 , 236137.09913545,\n       123487.92224243, 282334.13237576, 314139.51772739, 189957.30142606])"
     },
     "execution_count": 22,
     "metadata": {},
     "output_type": "execute_result"
    }
   ],
   "source": [
    "y_pred"
   ],
   "metadata": {
    "collapsed": false
   }
  },
  {
   "cell_type": "markdown",
   "source": [
    "Редактируем данные на основе которых нужно получить предсказание"
   ],
   "metadata": {
    "collapsed": false
   }
  },
  {
   "cell_type": "code",
   "execution_count": 23,
   "outputs": [],
   "source": [
    "test_data = pd.read_csv('data/test.csv')\n",
    "\n",
    "test_data['GarageYrBlt'] = test_data['GarageYrBlt'].fillna(-1)\n",
    "test_data['BsmtQual'] = test_data['BsmtQual'].fillna('NA')\n",
    "\n",
    "test_data['GarageYrBlt'] = label_encoder.fit_transform(test_data['GarageYrBlt'])\n",
    "\n",
    "test_data = pd.concat([test_data, pd.DataFrame(onehot_encoded, columns=new_columns)], axis=1)\n",
    "test_data = test_data.drop(['LandContour', 'Heating', 'Condition2'], axis=1)\n",
    "\n",
    "test_data['KitchenQual'] = test_data['KitchenQual'].map(kitchen_qual_mapping)\n",
    "test_data['ExterQual'] = test_data['ExterQual'].map(exter_qual_mapping)\n",
    "test_data['CentralAir'] = test_data['CentralAir'].map(central_air_mapping)\n",
    "test_data['BsmtQual'] = test_data['BsmtQual'].map(bsmt_qual_mapping)\n",
    "\n",
    "# По какой-то причине программа добавляет дополнительные пустые строки в конце,\n",
    "# чтобы в data и test_data их было одинаковое количество\n",
    "test_data = test_data.iloc[:-2]  # Выбирает все строки, кроме последних\n",
    "\n",
    "# В строке 662 (или 660) файла test.csv пропущено ряд переменных. Разумнее всего ее удалить, дабы не мешала\n",
    "# Lvl,1946.0,1,896,,4,TA,0,GasA,Norm,4,1.0,TA,1,896,0,Y,,,0\n",
    "# Это она\n",
    "\n",
    "test_data['KitchenQual'] = test_data['KitchenQual'].fillna(0)\n",
    "test_data['GarageCars'] = test_data['KitchenQual'].fillna(0)"
   ],
   "metadata": {
    "collapsed": false
   }
  },
  {
   "cell_type": "markdown",
   "source": [
    "Предсказываем цены"
   ],
   "metadata": {
    "collapsed": false
   }
  },
  {
   "cell_type": "code",
   "execution_count": 26,
   "outputs": [],
   "source": [
    "test_pred = model.predict(test_data)"
   ],
   "metadata": {
    "collapsed": false
   }
  },
  {
   "cell_type": "markdown",
   "source": [
    "Редактируем и публикуем результаты в отдельный файл"
   ],
   "metadata": {
    "collapsed": false
   }
  },
  {
   "cell_type": "code",
   "execution_count": 41,
   "outputs": [],
   "source": [
    "test_pred = pd.Series(test_pred)\n",
    "\n",
    "test_pred_df = pd.DataFrame(test_pred, columns=['SalePrice'])\n",
    "\n",
    "test_pred_df['Id'] = range(1, len(test_pred_df) + 1)\n",
    "test_pred_df.set_index('Id', inplace=True)\n",
    "\n",
    "test_pred_df.to_csv('data/answer/preds.csv')"
   ],
   "metadata": {
    "collapsed": false
   }
  }
 ],
 "metadata": {
  "kernelspec": {
   "display_name": "Python 3",
   "language": "python",
   "name": "python3"
  },
  "language_info": {
   "codemirror_mode": {
    "name": "ipython",
    "version": 2
   },
   "file_extension": ".py",
   "mimetype": "text/x-python",
   "name": "python",
   "nbconvert_exporter": "python",
   "pygments_lexer": "ipython2",
   "version": "2.7.6"
  }
 },
 "nbformat": 4,
 "nbformat_minor": 0
}
